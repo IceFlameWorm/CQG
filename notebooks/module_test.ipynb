{
 "cells": [
  {
   "cell_type": "code",
   "execution_count": 1,
   "metadata": {},
   "outputs": [],
   "source": [
    "import sys\n",
    "sys.path.append(\"../\")"
   ]
  },
  {
   "cell_type": "code",
   "execution_count": 2,
   "metadata": {},
   "outputs": [],
   "source": [
    "from cqg.core_server.core_server_asker import CoreServerAsker\n",
    "from cqg.core_server.core_server_ann import CoreServerAnn"
   ]
  },
  {
   "cell_type": "code",
   "execution_count": 3,
   "metadata": {},
   "outputs": [],
   "source": [
    "# text = \"公民申请普通护照，应当由本人向其户籍所在地县级以上地方人民政府公安机关出入境管理机构提出，并提交以上真实有效的材料，现役军人按照管理权限履行报批手续后，由本人向所属部队驻地县级以上地方人民政府公安机关出入境管理机构提出。\"\n",
    "# text =  '何洛洛在群访中回应称自己一定是会去高考的，虽然今年错过了，\\\n",
    "# 但明年一定会全力以赴。何洛洛坦言每个人在追梦的道路上都有自己的选择和机会，\\\n",
    "# 他会对自己的选择全力以赴坚持到底。至于错过今年高考是否遗憾，\\\n",
    "# 何洛洛给出了否定的答案，“每个人都有自己的选择，既然选择了《创造营2019》，那我明年继续备战高考。”'\n",
    "\n",
    "# text = \"作为山东人具体一年到头要吃几顿饺子真的没有具体数字，想吃了就调上馅儿包上咱就吃说说我们这儿必须吃饺子的日子：小年吃、大年三十12点钟声一敲必须吃饺子、正月初二送年的时候吃、过冬至的时候吃（俗语是为了防止冻耳朵），有人要远行一定要吃送行的饺子（俗语上车的饺子下车的面）还有嫁女儿一定要吃饺子，俗语叫做“滚蛋饺”（哈哈）\"\n",
    "text = \"马云是阿里巴巴集团的创始人之一，他于十几年前在浙江杭州创办了阿里巴巴集团。在2019年，阿里巴巴集团与上海签订了战略合作协议。\"\n",
    "ann = CoreServerAnn(text)"
   ]
  },
  {
   "cell_type": "code",
   "execution_count": 4,
   "metadata": {},
   "outputs": [],
   "source": [
    "asker = CoreServerAsker()"
   ]
  },
  {
   "cell_type": "code",
   "execution_count": 5,
   "metadata": {
    "scrolled": false
   },
   "outputs": [],
   "source": [
    "ann = asker(ann)"
   ]
  },
  {
   "cell_type": "code",
   "execution_count": 6,
   "metadata": {},
   "outputs": [
    {
     "name": "stdout",
     "output_type": "stream",
     "text": [
      "问题： { 谁 }是阿里巴巴集团的创始人之一\n",
      "答案1： 马云是阿里巴巴集团的创始人之一\n",
      "答案2： 马云是阿里巴巴集团的创始人之一，他于十几年前在浙江杭州创办了阿里巴巴集团。\n",
      "答案3： 马云是阿里巴巴集团的创始人之一，他于十几年前在浙江杭州创办了阿里巴巴集团。在2019年，阿里巴巴集团与上海签订了战略合作协议。\n",
      "\n",
      "\n",
      "问题： 马云是{ 什么 组织|机构 }的创始人之一\n",
      "答案1： 马云是阿里巴巴集团的创始人之一\n",
      "答案2： 马云是阿里巴巴集团的创始人之一，他于十几年前在浙江杭州创办了阿里巴巴集团。\n",
      "答案3： 马云是阿里巴巴集团的创始人之一，他于十几年前在浙江杭州创办了阿里巴巴集团。在2019年，阿里巴巴集团与上海签订了战略合作协议。\n",
      "\n",
      "\n",
      "问题： 他于十几年前在浙江杭州创办了{ 什么 组织|机构 }\n",
      "答案1： 他于十几年前在浙江杭州创办了阿里巴巴集团\n",
      "答案2： 马云是阿里巴巴集团的创始人之一，他于十几年前在浙江杭州创办了阿里巴巴集团。\n",
      "答案3： 马云是阿里巴巴集团的创始人之一，他于十几年前在浙江杭州创办了阿里巴巴集团。在2019年，阿里巴巴集团与上海签订了战略合作协议。\n",
      "\n",
      "\n",
      "问题： 在2019年，{ 什么 组织|机构 }与上海签订了战略合作协议。\n",
      "答案1： 在2019年，阿里巴巴集团与上海签订了战略合作协议。\n",
      "答案2： 在2019年，阿里巴巴集团与上海签订了战略合作协议。\n",
      "答案3： 马云是阿里巴巴集团的创始人之一，他于十几年前在浙江杭州创办了阿里巴巴集团。在2019年，阿里巴巴集团与上海签订了战略合作协议。\n",
      "\n",
      "\n"
     ]
    }
   ],
   "source": [
    "for quest in ann.quests:\n",
    "    anc1 = quest.get_ancestor(1)\n",
    "    anc2 = quest.get_ancestor(2)\n",
    "    anc3 = quest.get_ancestor(3)\n",
    "    print(\"问题：\",quest.text)\n",
    "    print(\"答案1：\",anc1.text)\n",
    "    print(\"答案2：\",anc2.text)\n",
    "    print(\"答案3：\",anc3.text)\n",
    "    print('\\n')"
   ]
  },
  {
   "cell_type": "code",
   "execution_count": null,
   "metadata": {},
   "outputs": [],
   "source": []
  }
 ],
 "metadata": {
  "kernelspec": {
   "display_name": "care",
   "language": "python",
   "name": "care"
  },
  "language_info": {
   "codemirror_mode": {
    "name": "ipython",
    "version": 3
   },
   "file_extension": ".py",
   "mimetype": "text/x-python",
   "name": "python",
   "nbconvert_exporter": "python",
   "pygments_lexer": "ipython3",
   "version": "3.6.8"
  }
 },
 "nbformat": 4,
 "nbformat_minor": 2
}
